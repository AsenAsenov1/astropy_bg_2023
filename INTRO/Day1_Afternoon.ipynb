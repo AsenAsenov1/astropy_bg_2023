{
  "nbformat": 4,
  "nbformat_minor": 0,
  "metadata": {
    "colab": {
      "provenance": []
    },
    "kernelspec": {
      "name": "python3",
      "display_name": "Python 3"
    },
    "language_info": {
      "name": "python"
    }
  },
  "cells": [
    {
      "cell_type": "code",
      "execution_count": null,
      "metadata": {
        "id": "XLUEGgRiowoH"
      },
      "outputs": [],
      "source": [
        "word = 'banana'"
      ]
    },
    {
      "cell_type": "code",
      "source": [
        "word[-4:]"
      ],
      "metadata": {
        "colab": {
          "base_uri": "https://localhost:8080/",
          "height": 58
        },
        "id": "EkzR48p9pEsG",
        "outputId": "8575a0ce-e869-457e-e54c-2ebeddd8b95d"
      },
      "execution_count": null,
      "outputs": [
        {
          "output_type": "execute_result",
          "data": {
            "text/plain": [
              "'nana'"
            ],
            "application/vnd.google.colaboratory.intrinsic+json": {
              "type": "string"
            }
          },
          "metadata": {},
          "execution_count": 10
        }
      ]
    },
    {
      "cell_type": "code",
      "source": [
        "odds = [1,3,5,7]\n",
        "print('odds are: ', odds)"
      ],
      "metadata": {
        "colab": {
          "base_uri": "https://localhost:8080/"
        },
        "id": "wA4o78t1pHQa",
        "outputId": "546ead66-f4d9-4cb0-c668-af7f829442b8"
      },
      "execution_count": null,
      "outputs": [
        {
          "output_type": "stream",
          "name": "stdout",
          "text": [
            "odds are:  [1, 3, 5, 7]\n"
          ]
        }
      ]
    },
    {
      "cell_type": "code",
      "source": [
        "print('first item: ', odds[0])"
      ],
      "metadata": {
        "colab": {
          "base_uri": "https://localhost:8080/"
        },
        "id": "GJE6_pc6ptyt",
        "outputId": "025bc170-7fc2-48be-f230-19d9edaa35a8"
      },
      "execution_count": null,
      "outputs": [
        {
          "output_type": "stream",
          "name": "stdout",
          "text": [
            "first item:  1\n"
          ]
        }
      ]
    },
    {
      "cell_type": "code",
      "source": [
        "print('last item: ', odds[-1])"
      ],
      "metadata": {
        "colab": {
          "base_uri": "https://localhost:8080/"
        },
        "id": "rl_1w0dcqDdf",
        "outputId": "933515ff-42fe-48f7-9ef8-2f02677d5427"
      },
      "execution_count": null,
      "outputs": [
        {
          "output_type": "stream",
          "name": "stdout",
          "text": [
            "last item:  7\n"
          ]
        }
      ]
    },
    {
      "cell_type": "code",
      "source": [
        "for number in odds:\n",
        "  print(number)"
      ],
      "metadata": {
        "colab": {
          "base_uri": "https://localhost:8080/"
        },
        "id": "2wAXz3SWqL7D",
        "outputId": "e248877b-6323-44f0-bf9c-1657c39f9ed0"
      },
      "execution_count": null,
      "outputs": [
        {
          "output_type": "stream",
          "name": "stdout",
          "text": [
            "1\n",
            "3\n",
            "5\n",
            "7\n"
          ]
        }
      ]
    },
    {
      "cell_type": "code",
      "source": [
        "names = ['John', 'Mary', 'James','Charles']\n",
        "print(names)"
      ],
      "metadata": {
        "colab": {
          "base_uri": "https://localhost:8080/"
        },
        "id": "v0HFedPBqRCU",
        "outputId": "1d58bdf9-b978-423d-fbcb-c8f295e09d46"
      },
      "execution_count": null,
      "outputs": [
        {
          "output_type": "stream",
          "name": "stdout",
          "text": [
            "['John', 'Mary', 'James', 'Charles']\n"
          ]
        }
      ]
    },
    {
      "cell_type": "code",
      "source": [
        "names[1] = 'Jane'\n",
        "print(names)"
      ],
      "metadata": {
        "colab": {
          "base_uri": "https://localhost:8080/"
        },
        "id": "ab2IwynHqcGl",
        "outputId": "e7257c15-2104-49ce-9a32-48d54eb71c22"
      },
      "execution_count": null,
      "outputs": [
        {
          "output_type": "stream",
          "name": "stdout",
          "text": [
            "['John', 'Jane', 'James', 'Charles']\n"
          ]
        }
      ]
    },
    {
      "cell_type": "code",
      "source": [
        "new_names = names\n",
        "print(new_names)"
      ],
      "metadata": {
        "colab": {
          "base_uri": "https://localhost:8080/"
        },
        "id": "byCGjqqFqhXB",
        "outputId": "e71fb1ee-d064-442c-d1fb-b1675d5f075a"
      },
      "execution_count": null,
      "outputs": [
        {
          "output_type": "stream",
          "name": "stdout",
          "text": [
            "['John', 'Jane', 'James', 'Charles']\n"
          ]
        }
      ]
    },
    {
      "cell_type": "code",
      "source": [
        "new_names[-1] = 'Jerome'\n",
        "print(new_names)"
      ],
      "metadata": {
        "colab": {
          "base_uri": "https://localhost:8080/"
        },
        "id": "1XWBGXkAqqzR",
        "outputId": "ff166137-735b-46a1-b444-4d238908a992"
      },
      "execution_count": null,
      "outputs": [
        {
          "output_type": "stream",
          "name": "stdout",
          "text": [
            "['John', 'Jane', 'James', 'Jerome']\n"
          ]
        }
      ]
    },
    {
      "cell_type": "code",
      "source": [
        "print(names)"
      ],
      "metadata": {
        "colab": {
          "base_uri": "https://localhost:8080/"
        },
        "id": "lDSwiLP6qtje",
        "outputId": "4f09f333-7257-4e2c-8a48-d7cbe9627ad0"
      },
      "execution_count": null,
      "outputs": [
        {
          "output_type": "stream",
          "name": "stdout",
          "text": [
            "['John', 'Jane', 'James', 'Jerome']\n"
          ]
        }
      ]
    },
    {
      "cell_type": "code",
      "source": [
        "new_new_names = list(names)\n",
        "new_new_names[0] = 'Mary'\n",
        "print(names)\n",
        "print(new_new_names)\n"
      ],
      "metadata": {
        "colab": {
          "base_uri": "https://localhost:8080/"
        },
        "id": "4GmfCmnGrD1M",
        "outputId": "6d4397f7-2b05-4fe5-a0f5-b0a9ee9248bf"
      },
      "execution_count": null,
      "outputs": [
        {
          "output_type": "stream",
          "name": "stdout",
          "text": [
            "['John', 'Jane', 'James', 'Jerome']\n",
            "['Mary', 'Jane', 'James', 'Jerome']\n"
          ]
        }
      ]
    },
    {
      "cell_type": "code",
      "source": [
        "ages = [10, 12.5, 'Unknown']\n",
        "print(ages)"
      ],
      "metadata": {
        "colab": {
          "base_uri": "https://localhost:8080/"
        },
        "id": "3V8TMWuRrV5_",
        "outputId": "3cc56a1b-43b1-4d2c-f23d-bc39f7830b3b"
      },
      "execution_count": null,
      "outputs": [
        {
          "output_type": "stream",
          "name": "stdout",
          "text": [
            "[10, 12.5, 'Unknown']\n"
          ]
        }
      ]
    },
    {
      "cell_type": "code",
      "source": [
        "print(odds)"
      ],
      "metadata": {
        "colab": {
          "base_uri": "https://localhost:8080/"
        },
        "id": "oBEcqeZbrjpG",
        "outputId": "f4d3022f-d8a1-4916-8c65-c0daf91221c0"
      },
      "execution_count": null,
      "outputs": [
        {
          "output_type": "stream",
          "name": "stdout",
          "text": [
            "[1, 3, 5, 7]\n"
          ]
        }
      ]
    },
    {
      "cell_type": "code",
      "source": [
        "odds = [1,3,5,7]\n",
        "odds.reverse()\n",
        "odds.append(9)\n",
        "print(odds)"
      ],
      "metadata": {
        "colab": {
          "base_uri": "https://localhost:8080/"
        },
        "id": "9-l93-furv-i",
        "outputId": "2c2999cd-598c-4d0b-9011-bc5a66a9b721"
      },
      "execution_count": null,
      "outputs": [
        {
          "output_type": "stream",
          "name": "stdout",
          "text": [
            "[7, 5, 3, 1, 9]\n"
          ]
        }
      ]
    },
    {
      "cell_type": "code",
      "source": [
        "del odds[-1]"
      ],
      "metadata": {
        "id": "v7_sJBLlry8b"
      },
      "execution_count": null,
      "outputs": []
    },
    {
      "cell_type": "code",
      "source": [
        "print(odds)"
      ],
      "metadata": {
        "colab": {
          "base_uri": "https://localhost:8080/"
        },
        "id": "kzntELc1sYu7",
        "outputId": "6fe87104-0a57-40b8-8b8a-c1aab04e7e15"
      },
      "execution_count": null,
      "outputs": [
        {
          "output_type": "stream",
          "name": "stdout",
          "text": [
            "[7, 5, 3, 1]\n"
          ]
        }
      ]
    },
    {
      "cell_type": "code",
      "source": [
        "import glob"
      ],
      "metadata": {
        "id": "VYjbroJcsZub"
      },
      "execution_count": null,
      "outputs": []
    },
    {
      "cell_type": "code",
      "source": [],
      "metadata": {
        "id": "Ldxn8r8atlw5"
      },
      "execution_count": null,
      "outputs": []
    },
    {
      "cell_type": "markdown",
      "source": [
        "!wget --no-check-certificate 'http://tinyurl.com/astropyday1data' -O foo.tar\n",
        "\n",
        "!tar -xvf foo.tar\n",
        "\n",
        "!mv astropy_day1_data data"
      ],
      "metadata": {
        "id": "4zWeya4itn9n"
      }
    },
    {
      "cell_type": "code",
      "source": [
        "!wget --no-check-certificate 'http://tinyurl.com/astropyday1data' -O foo.tar\n",
        "!tar -xvf foo.tar\n",
        "!mv astropy_day1_data data"
      ],
      "metadata": {
        "colab": {
          "base_uri": "https://localhost:8080/"
        },
        "id": "-Ggc_cdKsyj-",
        "outputId": "52e302cb-cf69-407c-a285-06486b0b005c"
      },
      "execution_count": null,
      "outputs": [
        {
          "output_type": "stream",
          "name": "stdout",
          "text": [
            "--2023-11-20 12:30:55--  http://tinyurl.com/astropyday1data\n",
            "Resolving tinyurl.com (tinyurl.com)... 104.20.139.65, 104.20.138.65, 172.67.1.225, ...\n",
            "Connecting to tinyurl.com (tinyurl.com)|104.20.139.65|:80... connected.\n",
            "HTTP request sent, awaiting response... 301 Moved Permanently\n",
            "Location: https://docs.google.com/uc?export=download&id=1G7NCnPwoTmmweqyqmZ1RnnAcEUI_rgHQ [following]\n",
            "--2023-11-20 12:30:55--  https://docs.google.com/uc?export=download&id=1G7NCnPwoTmmweqyqmZ1RnnAcEUI_rgHQ\n",
            "Resolving docs.google.com (docs.google.com)... 142.250.148.100, 142.250.148.138, 142.250.148.139, ...\n",
            "Connecting to docs.google.com (docs.google.com)|142.250.148.100|:443... connected.\n",
            "HTTP request sent, awaiting response... 303 See Other\n",
            "Location: https://doc-0o-3k-docs.googleusercontent.com/docs/securesc/ha0ro937gcuc7l7deffksulhg5h7mbp1/c683llimpvgpekpqonmvna30hibe5l9b/1700483400000/17278011755076704091/*/1G7NCnPwoTmmweqyqmZ1RnnAcEUI_rgHQ?e=download&uuid=715966c8-0120-4e42-b2f1-94a93bae26f0 [following]\n",
            "Warning: wildcards not supported in HTTP.\n",
            "--2023-11-20 12:30:56--  https://doc-0o-3k-docs.googleusercontent.com/docs/securesc/ha0ro937gcuc7l7deffksulhg5h7mbp1/c683llimpvgpekpqonmvna30hibe5l9b/1700483400000/17278011755076704091/*/1G7NCnPwoTmmweqyqmZ1RnnAcEUI_rgHQ?e=download&uuid=715966c8-0120-4e42-b2f1-94a93bae26f0\n",
            "Resolving doc-0o-3k-docs.googleusercontent.com (doc-0o-3k-docs.googleusercontent.com)... 142.250.1.132, 2607:f8b0:4001:c24::84\n",
            "Connecting to doc-0o-3k-docs.googleusercontent.com (doc-0o-3k-docs.googleusercontent.com)|142.250.1.132|:443... connected.\n",
            "HTTP request sent, awaiting response... 200 OK\n",
            "Length: 90112 (88K) [application/x-tar]\n",
            "Saving to: ‘foo.tar’\n",
            "\n",
            "foo.tar             100%[===================>]  88.00K  --.-KB/s    in 0.001s  \n",
            "\n",
            "2023-11-20 12:30:56 (145 MB/s) - ‘foo.tar’ saved [90112/90112]\n",
            "\n",
            "astropy_day1_data/\n",
            "astropy_day1_data/._03D1au.csv\n",
            "astropy_day1_data/03D1au.csv\n",
            "astropy_day1_data/._03D1aw.csv\n",
            "astropy_day1_data/03D1aw.csv\n",
            "astropy_day1_data/._03D1bm.csv\n",
            "astropy_day1_data/03D1bm.csv\n",
            "astropy_day1_data/._03D1cm.csv\n",
            "astropy_day1_data/03D1cm.csv\n",
            "astropy_day1_data/._.DS_Store\n",
            "astropy_day1_data/.DS_Store\n",
            "astropy_day1_data/._03D1bk.csv\n",
            "astropy_day1_data/03D1bk.csv\n",
            "astropy_day1_data/._03D1co.csv\n",
            "astropy_day1_data/03D1co.csv\n",
            "astropy_day1_data/._03D1ar_r.csv\n",
            "astropy_day1_data/03D1ar_r.csv\n",
            "astropy_day1_data/._03D1ar_g.csv\n",
            "astropy_day1_data/03D1ar_g.csv\n",
            "astropy_day1_data/._03D1dj.csv\n",
            "astropy_day1_data/03D1dj.csv\n",
            "astropy_day1_data/._03D1ar_z.csv\n",
            "astropy_day1_data/03D1ar_z.csv\n",
            "astropy_day1_data/._03D1ar_i.csv\n",
            "astropy_day1_data/03D1ar_i.csv\n",
            "astropy_day1_data/._03D1bp.csv\n",
            "astropy_day1_data/03D1bp.csv\n",
            "astropy_day1_data/._03D1ax.csv\n",
            "astropy_day1_data/03D1ax.csv\n"
          ]
        }
      ]
    },
    {
      "cell_type": "code",
      "source": [
        "!tar -xvf foo.tar"
      ],
      "metadata": {
        "colab": {
          "base_uri": "https://localhost:8080/"
        },
        "id": "v0xnPR8atNox",
        "outputId": "65a535d9-00b5-41bf-fecf-3215a2b6ee87"
      },
      "execution_count": null,
      "outputs": [
        {
          "output_type": "stream",
          "name": "stdout",
          "text": [
            "astropy_day1_data/\n",
            "astropy_day1_data/._03D1au.csv\n",
            "astropy_day1_data/03D1au.csv\n",
            "astropy_day1_data/._03D1aw.csv\n",
            "astropy_day1_data/03D1aw.csv\n",
            "astropy_day1_data/._03D1bm.csv\n",
            "astropy_day1_data/03D1bm.csv\n",
            "astropy_day1_data/._03D1cm.csv\n",
            "astropy_day1_data/03D1cm.csv\n",
            "astropy_day1_data/._.DS_Store\n",
            "astropy_day1_data/.DS_Store\n",
            "astropy_day1_data/._03D1bk.csv\n",
            "astropy_day1_data/03D1bk.csv\n",
            "astropy_day1_data/._03D1co.csv\n",
            "astropy_day1_data/03D1co.csv\n",
            "astropy_day1_data/._03D1ar_r.csv\n",
            "astropy_day1_data/03D1ar_r.csv\n",
            "astropy_day1_data/._03D1ar_g.csv\n",
            "astropy_day1_data/03D1ar_g.csv\n",
            "astropy_day1_data/._03D1dj.csv\n",
            "astropy_day1_data/03D1dj.csv\n",
            "astropy_day1_data/._03D1ar_z.csv\n",
            "astropy_day1_data/03D1ar_z.csv\n",
            "astropy_day1_data/._03D1ar_i.csv\n",
            "astropy_day1_data/03D1ar_i.csv\n",
            "astropy_day1_data/._03D1bp.csv\n",
            "astropy_day1_data/03D1bp.csv\n",
            "astropy_day1_data/._03D1ax.csv\n",
            "astropy_day1_data/03D1ax.csv\n"
          ]
        }
      ]
    },
    {
      "cell_type": "code",
      "source": [
        "!mv astropy_day1_data data"
      ],
      "metadata": {
        "id": "ChV4PC__tOnG"
      },
      "execution_count": null,
      "outputs": []
    },
    {
      "cell_type": "code",
      "source": [
        "ls data"
      ],
      "metadata": {
        "colab": {
          "base_uri": "https://localhost:8080/"
        },
        "id": "WMxzqwp-tSP2",
        "outputId": "a174d1ce-a6bb-4639-fddc-19a7cc78de7f"
      },
      "execution_count": null,
      "outputs": [
        {
          "output_type": "stream",
          "name": "stdout",
          "text": [
            "03D1ar_g.csv  03D1ar_r.csv  03D1au.csv  03D1ax.csv  03D1bm.csv  03D1cm.csv  03D1dj.csv\n",
            "03D1ar_i.csv  03D1ar_z.csv  03D1aw.csv  03D1bk.csv  03D1bp.csv  03D1co.csv  \u001b[0m\u001b[01;34mastropy_day1_data\u001b[0m/\n"
          ]
        }
      ]
    },
    {
      "cell_type": "code",
      "source": [
        "print(glob.glob('data/*.csv'))"
      ],
      "metadata": {
        "colab": {
          "base_uri": "https://localhost:8080/"
        },
        "id": "2RnqPQtyt7zn",
        "outputId": "a8128bb7-d945-4761-8ad7-9f439d3c03e3"
      },
      "execution_count": null,
      "outputs": [
        {
          "output_type": "stream",
          "name": "stdout",
          "text": [
            "['data/03D1ar_r.csv', 'data/03D1ax.csv', 'data/03D1ar_g.csv', 'data/03D1co.csv', 'data/03D1bm.csv', 'data/03D1ar_z.csv', 'data/03D1dj.csv', 'data/03D1ar_i.csv', 'data/03D1cm.csv', 'data/03D1aw.csv', 'data/03D1bk.csv', 'data/03D1au.csv', 'data/03D1bp.csv']\n"
          ]
        }
      ]
    },
    {
      "cell_type": "code",
      "source": [
        "list_of_files = glob.glob('data/*1??.csv')\n",
        "print(list_of_files)"
      ],
      "metadata": {
        "colab": {
          "base_uri": "https://localhost:8080/"
        },
        "id": "DM0fLrT0u2_8",
        "outputId": "e902f206-8b84-49a5-81b1-d15f0f136653"
      },
      "execution_count": null,
      "outputs": [
        {
          "output_type": "stream",
          "name": "stdout",
          "text": [
            "['data/03D1ax.csv', 'data/03D1co.csv', 'data/03D1bm.csv', 'data/03D1dj.csv', 'data/03D1cm.csv', 'data/03D1aw.csv', 'data/03D1bk.csv', 'data/03D1au.csv', 'data/03D1bp.csv']\n"
          ]
        }
      ]
    },
    {
      "cell_type": "code",
      "source": [
        "type(list_of_files)"
      ],
      "metadata": {
        "colab": {
          "base_uri": "https://localhost:8080/"
        },
        "id": "Y8eyJafCvA2Y",
        "outputId": "6738b9d7-1d0f-44ad-c2b6-6358d1ec835d"
      },
      "execution_count": null,
      "outputs": [
        {
          "output_type": "execute_result",
          "data": {
            "text/plain": [
              "list"
            ]
          },
          "metadata": {},
          "execution_count": 58
        }
      ]
    },
    {
      "cell_type": "code",
      "source": [
        "len(list_of_files)"
      ],
      "metadata": {
        "colab": {
          "base_uri": "https://localhost:8080/"
        },
        "id": "VOEZszW6vrD2",
        "outputId": "34a04a74-229a-4a6c-e58f-ef5bd880f81e"
      },
      "execution_count": null,
      "outputs": [
        {
          "output_type": "execute_result",
          "data": {
            "text/plain": [
              "9"
            ]
          },
          "metadata": {},
          "execution_count": 59
        }
      ]
    },
    {
      "cell_type": "code",
      "source": [
        "files = sorted(list_of_files)"
      ],
      "metadata": {
        "id": "rgAQ8Ksdvtch"
      },
      "execution_count": null,
      "outputs": []
    },
    {
      "cell_type": "code",
      "source": [
        "print(files)"
      ],
      "metadata": {
        "colab": {
          "base_uri": "https://localhost:8080/"
        },
        "id": "RCD8UpMkv4Ub",
        "outputId": "876546ba-bc6d-4b1d-c5b1-e7860b73c7ea"
      },
      "execution_count": null,
      "outputs": [
        {
          "output_type": "stream",
          "name": "stdout",
          "text": [
            "['data/03D1au.csv', 'data/03D1aw.csv', 'data/03D1ax.csv', 'data/03D1bk.csv', 'data/03D1bm.csv', 'data/03D1bp.csv', 'data/03D1cm.csv', 'data/03D1co.csv', 'data/03D1dj.csv']\n"
          ]
        }
      ]
    },
    {
      "cell_type": "code",
      "source": [
        "import numpy as np"
      ],
      "metadata": {
        "id": "D0bJRQ58w7qq"
      },
      "execution_count": null,
      "outputs": []
    },
    {
      "cell_type": "code",
      "source": [
        "for file in files:\n",
        "  print(file)\n",
        "  data = np.loadtxt(fname=file, delimiter=',', skiprows=1)\n",
        "  i_min = np.nanmin(data[:,5])\n",
        "  i_max = np.nanmax(data[:,5])\n",
        "  print('i min: ', i_min, 'i max: ', i_max)"
      ],
      "metadata": {
        "colab": {
          "base_uri": "https://localhost:8080/"
        },
        "id": "HNMVN1A3v5hL",
        "outputId": "04126071-6957-48ec-e2fd-4a90df7a40ca"
      },
      "execution_count": null,
      "outputs": [
        {
          "output_type": "stream",
          "name": "stdout",
          "text": [
            "data/03D1au.csv\n",
            "i min:  -4.7982 i max:  1242.9\n",
            "data/03D1aw.csv\n",
            "i min:  -0.33068 i max:  873.27\n",
            "data/03D1ax.csv\n",
            "i min:  -18.387 i max:  1198.7\n",
            "data/03D1bk.csv\n",
            "i min:  -44.558 i max:  510.4\n",
            "data/03D1bm.csv\n",
            "i min:  -208.6 i max:  479.13\n",
            "data/03D1bp.csv\n",
            "i min:  -37.494 i max:  1721.4\n",
            "data/03D1cm.csv\n",
            "i min:  -24.125 i max:  480.18\n",
            "data/03D1co.csv\n",
            "i min:  -29.931 i max:  547.02\n",
            "data/03D1dj.csv\n",
            "i min:  -20.164 i max:  1842.1\n"
          ]
        }
      ]
    },
    {
      "cell_type": "code",
      "source": [
        "import matplotlib.pyplot as plt\n",
        "\n",
        "for file in files:\n",
        "  data = np.loadtxt(fname=file, delimiter = ',', skiprows=1)\n",
        "\n",
        "  plt.plot(data[:,0], data[:,1], 'o', color='blue')\n",
        "  plt.scatter(data[:,0], data[:,3], color='red', alpha=0.5)\n",
        "\n",
        "  plt.savefig(file.replace('.csv','.png'))\n",
        "  plt.clf()"
      ],
      "metadata": {
        "colab": {
          "base_uri": "https://localhost:8080/",
          "height": 54
        },
        "id": "TPkglBKawCn1",
        "outputId": "9a959267-f65e-437d-be52-717cab585f40"
      },
      "execution_count": null,
      "outputs": [
        {
          "output_type": "display_data",
          "data": {
            "text/plain": [
              "<Figure size 640x480 with 0 Axes>"
            ]
          },
          "metadata": {}
        }
      ]
    },
    {
      "cell_type": "markdown",
      "source": [
        "Now conditional"
      ],
      "metadata": {
        "id": "CWtGZaKqzoES"
      }
    },
    {
      "cell_type": "code",
      "source": [
        "num = 150\n",
        "\n",
        "if num > 100:\n",
        "  print('GREATER!')\n",
        "else:\n",
        "  print('not greater.')\n",
        "\n",
        "print('done')"
      ],
      "metadata": {
        "colab": {
          "base_uri": "https://localhost:8080/"
        },
        "id": "iDCSlWFpy_lh",
        "outputId": "1ccdd26f-9130-40b8-890b-a266e4855a6b"
      },
      "execution_count": null,
      "outputs": [
        {
          "output_type": "stream",
          "name": "stdout",
          "text": [
            "GREATER!\n",
            "done\n"
          ]
        }
      ]
    },
    {
      "cell_type": "code",
      "source": [
        "num = -100\n",
        "\n",
        "if num > 0:\n",
        "  print('positive')\n",
        "elif num == 0:\n",
        "  print('zero')\n",
        "else:\n",
        "  print('negative')"
      ],
      "metadata": {
        "colab": {
          "base_uri": "https://localhost:8080/"
        },
        "id": "6P-Eypfa0WB7",
        "outputId": "10a03743-2dfe-40b4-ac11-c27fecdcdbf9"
      },
      "execution_count": null,
      "outputs": [
        {
          "output_type": "stream",
          "name": "stdout",
          "text": [
            "negative\n"
          ]
        }
      ]
    },
    {
      "cell_type": "code",
      "source": [
        "num = 10\n",
        "\n",
        "if (num > 0) and (num < 20):\n",
        "  print('between 0 and 20')\n",
        "else:\n",
        "  print('not between 0 and 20')"
      ],
      "metadata": {
        "colab": {
          "base_uri": "https://localhost:8080/"
        },
        "id": "lFkwqZ_G0-3f",
        "outputId": "4bc9ea56-fa53-433e-a745-090b7afc7804"
      },
      "execution_count": null,
      "outputs": [
        {
          "output_type": "stream",
          "name": "stdout",
          "text": [
            "between 0 and 20\n"
          ]
        }
      ]
    },
    {
      "cell_type": "code",
      "source": [
        "num = -1\n",
        "\n",
        "if (num < 0) or (num > 20):\n",
        "  print('I am a \"happy\" person')\n",
        "else:\n",
        "  print('I am sad')"
      ],
      "metadata": {
        "colab": {
          "base_uri": "https://localhost:8080/"
        },
        "id": "046JqeZX1mFE",
        "outputId": "3b569023-88bf-41d7-c2a9-a4f669cb0208"
      },
      "execution_count": null,
      "outputs": [
        {
          "output_type": "stream",
          "name": "stdout",
          "text": [
            "I am a \"happy\" person\n"
          ]
        }
      ]
    },
    {
      "cell_type": "code",
      "source": [
        "def fahr_to_celsius(temp):\n",
        "  new_temp = ((temp-32)*(5/9))\n",
        "  return new_temp"
      ],
      "metadata": {
        "id": "mU_J_YLn16nb"
      },
      "execution_count": null,
      "outputs": []
    },
    {
      "cell_type": "code",
      "source": [
        "fahr_to_celsius(32)"
      ],
      "metadata": {
        "colab": {
          "base_uri": "https://localhost:8080/"
        },
        "id": "dLqzB_7Q3RQC",
        "outputId": "873ad01d-95c5-4291-a76e-f2305bf56b31"
      },
      "execution_count": null,
      "outputs": [
        {
          "output_type": "execute_result",
          "data": {
            "text/plain": [
              "0.0"
            ]
          },
          "metadata": {},
          "execution_count": 87
        }
      ]
    },
    {
      "cell_type": "code",
      "source": [
        "print('freezing', fahr_to_celsius(32))\n",
        "print('boiling', fahr_to_celsius(212))"
      ],
      "metadata": {
        "colab": {
          "base_uri": "https://localhost:8080/"
        },
        "id": "OMbNku9C3b9W",
        "outputId": "62593223-9b5a-4fd2-b665-7370d5c5f6ec"
      },
      "execution_count": null,
      "outputs": [
        {
          "output_type": "stream",
          "name": "stdout",
          "text": [
            "freezing 0.0\n",
            "boiling 100.0\n"
          ]
        }
      ]
    },
    {
      "cell_type": "code",
      "source": [
        "def celsius_to_kelvin(temp):\n",
        "  return temp + 273.15"
      ],
      "metadata": {
        "id": "j1T9FZTN3vV-"
      },
      "execution_count": null,
      "outputs": []
    },
    {
      "cell_type": "code",
      "source": [
        "celsius_to_kelvin(0)"
      ],
      "metadata": {
        "colab": {
          "base_uri": "https://localhost:8080/"
        },
        "id": "ACKyAjzT50_m",
        "outputId": "3a6e6e76-fff3-4bd4-e122-bc463d8f27b3"
      },
      "execution_count": null,
      "outputs": [
        {
          "output_type": "execute_result",
          "data": {
            "text/plain": [
              "273.15"
            ]
          },
          "metadata": {},
          "execution_count": 90
        }
      ]
    },
    {
      "cell_type": "code",
      "source": [
        "def fahr_to_kelvin(temp):\n",
        "  \"\"\"\n",
        "  This is my special function.\n",
        "  It takes some values in F degrees\n",
        "  And returns deg K\n",
        "  Example: fahr_to_kelvin(212)\n",
        "  > 373.15\n",
        "  \"\"\"\n",
        "\n",
        "  #calculate one thing\n",
        "  c_temp = fahr_to_celsius(temp) # I'm here\n",
        "\n",
        "  #calcualate another thing\n",
        "  k_temp = celsius_to_kelvin(c_temp)\n",
        "  return k_temp"
      ],
      "metadata": {
        "id": "8ubGfZa34Vm9"
      },
      "execution_count": null,
      "outputs": []
    },
    {
      "cell_type": "code",
      "source": [
        "help(fahr_to_kelvin)"
      ],
      "metadata": {
        "colab": {
          "base_uri": "https://localhost:8080/"
        },
        "id": "Lv6CLOky8R7P",
        "outputId": "702f332b-05e6-4aea-f829-35e3d2f5b40d"
      },
      "execution_count": null,
      "outputs": [
        {
          "output_type": "stream",
          "name": "stdout",
          "text": [
            "Help on function fahr_to_kelvin in module __main__:\n",
            "\n",
            "fahr_to_kelvin(temp)\n",
            "    This is my special function.\n",
            "    It takes some values in F degrees\n",
            "    And returns deg K\n",
            "\n"
          ]
        }
      ]
    },
    {
      "cell_type": "code",
      "source": [
        "fahr_to_kelvin(212)"
      ],
      "metadata": {
        "colab": {
          "base_uri": "https://localhost:8080/"
        },
        "id": "lm5nnh6x6d0y",
        "outputId": "8f855db0-2970-4961-cefc-9663a528f63f"
      },
      "execution_count": null,
      "outputs": [
        {
          "output_type": "execute_result",
          "data": {
            "text/plain": [
              "373.15"
            ]
          },
          "metadata": {},
          "execution_count": 95
        }
      ]
    },
    {
      "cell_type": "code",
      "source": [
        "def analyze_data(directroty='data/'):\n",
        "  #find all the files\n",
        "  # glob\n",
        "\n",
        "  # \"for\" loop each file:\n",
        "  # read in data\n",
        "\n",
        "  # \"if\" loop: check that the maximum i-band flux is > 100\n",
        "\n",
        "  # if it is, make the PNG plot\n",
        "  pass\n",
        "\n",
        "def plot_function(x,y):\n",
        "  pass"
      ],
      "metadata": {
        "id": "XvYgQ1o96h7W"
      },
      "execution_count": null,
      "outputs": []
    },
    {
      "cell_type": "code",
      "source": [
        "#for file in filename:\n",
        "#  analyze_data(file)"
      ],
      "metadata": {
        "id": "ntf5C6DG7Jrb"
      },
      "execution_count": null,
      "outputs": []
    },
    {
      "cell_type": "markdown",
      "source": [
        "Now on to errors and other meta concepts."
      ],
      "metadata": {
        "id": "eH5Qu1azEMyj"
      }
    },
    {
      "cell_type": "code",
      "source": [
        "def favorite_fruit():\n",
        "  fruit = ['apple', 'banana','pear']\n",
        "  print(len(fruit))\n",
        "  print(fruit[3])\n",
        "\n",
        "favorite_fruit()"
      ],
      "metadata": {
        "colab": {
          "base_uri": "https://localhost:8080/",
          "height": 357
        },
        "id": "dWgI5A2tEL9O",
        "outputId": "b8b2c863-cc58-425a-c8f3-1d4f03f9fa3a"
      },
      "execution_count": null,
      "outputs": [
        {
          "output_type": "stream",
          "name": "stdout",
          "text": [
            "3\n"
          ]
        },
        {
          "output_type": "error",
          "ename": "IndexError",
          "evalue": "ignored",
          "traceback": [
            "\u001b[0;31m---------------------------------------------------------------------------\u001b[0m",
            "\u001b[0;31mIndexError\u001b[0m                                Traceback (most recent call last)",
            "\u001b[0;32m<ipython-input-100-ab0b061933c5>\u001b[0m in \u001b[0;36m<cell line: 6>\u001b[0;34m()\u001b[0m\n\u001b[1;32m      4\u001b[0m   \u001b[0mprint\u001b[0m\u001b[0;34m(\u001b[0m\u001b[0mfruit\u001b[0m\u001b[0;34m[\u001b[0m\u001b[0;36m3\u001b[0m\u001b[0;34m]\u001b[0m\u001b[0;34m)\u001b[0m\u001b[0;34m\u001b[0m\u001b[0;34m\u001b[0m\u001b[0m\n\u001b[1;32m      5\u001b[0m \u001b[0;34m\u001b[0m\u001b[0m\n\u001b[0;32m----> 6\u001b[0;31m \u001b[0mfavorite_fruit\u001b[0m\u001b[0;34m(\u001b[0m\u001b[0;34m)\u001b[0m\u001b[0;34m\u001b[0m\u001b[0;34m\u001b[0m\u001b[0m\n\u001b[0m",
            "\u001b[0;32m<ipython-input-100-ab0b061933c5>\u001b[0m in \u001b[0;36mfavorite_fruit\u001b[0;34m()\u001b[0m\n\u001b[1;32m      2\u001b[0m   \u001b[0mfruit\u001b[0m \u001b[0;34m=\u001b[0m \u001b[0;34m[\u001b[0m\u001b[0;34m'apple'\u001b[0m\u001b[0;34m,\u001b[0m \u001b[0;34m'banana'\u001b[0m\u001b[0;34m,\u001b[0m\u001b[0;34m'pear'\u001b[0m\u001b[0;34m]\u001b[0m\u001b[0;34m\u001b[0m\u001b[0;34m\u001b[0m\u001b[0m\n\u001b[1;32m      3\u001b[0m   \u001b[0mprint\u001b[0m\u001b[0;34m(\u001b[0m\u001b[0mlen\u001b[0m\u001b[0;34m(\u001b[0m\u001b[0mfruit\u001b[0m\u001b[0;34m)\u001b[0m\u001b[0;34m)\u001b[0m\u001b[0;34m\u001b[0m\u001b[0;34m\u001b[0m\u001b[0m\n\u001b[0;32m----> 4\u001b[0;31m   \u001b[0mprint\u001b[0m\u001b[0;34m(\u001b[0m\u001b[0mfruit\u001b[0m\u001b[0;34m[\u001b[0m\u001b[0;36m3\u001b[0m\u001b[0;34m]\u001b[0m\u001b[0;34m)\u001b[0m\u001b[0;34m\u001b[0m\u001b[0;34m\u001b[0m\u001b[0m\n\u001b[0m\u001b[1;32m      5\u001b[0m \u001b[0;34m\u001b[0m\u001b[0m\n\u001b[1;32m      6\u001b[0m \u001b[0mfavorite_fruit\u001b[0m\u001b[0;34m(\u001b[0m\u001b[0;34m)\u001b[0m\u001b[0;34m\u001b[0m\u001b[0;34m\u001b[0m\u001b[0m\n",
            "\u001b[0;31mIndexError\u001b[0m: list index out of range"
          ]
        }
      ]
    },
    {
      "cell_type": "code",
      "source": [
        "def some_func():\n",
        "  msg = 'Hello!'\n",
        "  print(msg)\n",
        "  return msg"
      ],
      "metadata": {
        "colab": {
          "base_uri": "https://localhost:8080/",
          "height": 159
        },
        "id": "e1evxwloE1MK",
        "outputId": "535ed9cb-330a-4626-9160-972dcfb6b1ff"
      },
      "execution_count": null,
      "outputs": [
        {
          "output_type": "error",
          "ename": "SyntaxError",
          "evalue": "ignored",
          "traceback": [
            "\u001b[0;36m  File \u001b[0;32m\"<ipython-input-103-d05cb0f0ec5d>\"\u001b[0;36m, line \u001b[0;32m1\u001b[0m\n\u001b[0;31m    def some_func(:\u001b[0m\n\u001b[0m                  ^\u001b[0m\n\u001b[0;31mSyntaxError\u001b[0m\u001b[0;31m:\u001b[0m invalid syntax\n"
          ]
        }
      ]
    },
    {
      "cell_type": "code",
      "source": [
        "count = 0\n",
        "for i in range(10):\n",
        "  count = count+1\n",
        "\n",
        "print(count)"
      ],
      "metadata": {
        "colab": {
          "base_uri": "https://localhost:8080/",
          "height": 241
        },
        "id": "6z4L6RjsGLsi",
        "outputId": "4f1a7b56-48cf-4f2a-db31-89a740a5c66e"
      },
      "execution_count": null,
      "outputs": [
        {
          "output_type": "error",
          "ename": "NameError",
          "evalue": "ignored",
          "traceback": [
            "\u001b[0;31m---------------------------------------------------------------------------\u001b[0m",
            "\u001b[0;31mNameError\u001b[0m                                 Traceback (most recent call last)",
            "\u001b[0;32m<ipython-input-105-d85a638809b3>\u001b[0m in \u001b[0;36m<cell line: 1>\u001b[0;34m()\u001b[0m\n\u001b[1;32m      1\u001b[0m \u001b[0;32mfor\u001b[0m \u001b[0mi\u001b[0m \u001b[0;32min\u001b[0m \u001b[0mrange\u001b[0m\u001b[0;34m(\u001b[0m\u001b[0;36m10\u001b[0m\u001b[0;34m)\u001b[0m\u001b[0;34m:\u001b[0m\u001b[0;34m\u001b[0m\u001b[0;34m\u001b[0m\u001b[0m\n\u001b[0;32m----> 2\u001b[0;31m   \u001b[0mcount\u001b[0m \u001b[0;34m=\u001b[0m \u001b[0mcount\u001b[0m\u001b[0;34m+\u001b[0m\u001b[0;36m1\u001b[0m\u001b[0;34m\u001b[0m\u001b[0;34m\u001b[0m\u001b[0m\n\u001b[0m\u001b[1;32m      3\u001b[0m \u001b[0;34m\u001b[0m\u001b[0m\n\u001b[1;32m      4\u001b[0m \u001b[0mprint\u001b[0m\u001b[0;34m(\u001b[0m\u001b[0mcount\u001b[0m\u001b[0;34m)\u001b[0m\u001b[0;34m\u001b[0m\u001b[0;34m\u001b[0m\u001b[0m\n",
            "\u001b[0;31mNameError\u001b[0m: name 'count' is not defined"
          ]
        }
      ]
    },
    {
      "cell_type": "code",
      "source": [
        "file = open('myfile.txt','r')"
      ],
      "metadata": {
        "colab": {
          "base_uri": "https://localhost:8080/",
          "height": 192
        },
        "id": "gTOJnk9BHEIs",
        "outputId": "6e0aeda0-63f5-411b-a7d1-12e2c6e17022"
      },
      "execution_count": null,
      "outputs": [
        {
          "output_type": "error",
          "ename": "FileNotFoundError",
          "evalue": "ignored",
          "traceback": [
            "\u001b[0;31m---------------------------------------------------------------------------\u001b[0m",
            "\u001b[0;31mFileNotFoundError\u001b[0m                         Traceback (most recent call last)",
            "\u001b[0;32m<ipython-input-106-e46dba97c900>\u001b[0m in \u001b[0;36m<cell line: 1>\u001b[0;34m()\u001b[0m\n\u001b[0;32m----> 1\u001b[0;31m \u001b[0mfile\u001b[0m \u001b[0;34m=\u001b[0m \u001b[0mopen\u001b[0m\u001b[0;34m(\u001b[0m\u001b[0;34m'myfile.txt'\u001b[0m\u001b[0;34m,\u001b[0m\u001b[0;34m'r'\u001b[0m\u001b[0;34m)\u001b[0m\u001b[0;34m\u001b[0m\u001b[0;34m\u001b[0m\u001b[0m\n\u001b[0m",
            "\u001b[0;31mFileNotFoundError\u001b[0m: [Errno 2] No such file or directory: 'myfile.txt'"
          ]
        }
      ]
    },
    {
      "cell_type": "code",
      "source": [
        "try:\n",
        "  file = open('myfile.txt','r')\n",
        "except FileNotFoundError:\n",
        "  print('I CANT FIND IT!')"
      ],
      "metadata": {
        "colab": {
          "base_uri": "https://localhost:8080/"
        },
        "id": "Gy7K-F8-Hod-",
        "outputId": "34744d86-28cb-4583-9fe7-44f179eb48c3"
      },
      "execution_count": null,
      "outputs": [
        {
          "output_type": "stream",
          "name": "stdout",
          "text": [
            "I CANT FIND IT!\n"
          ]
        }
      ]
    },
    {
      "cell_type": "markdown",
      "source": [
        "Assertions"
      ],
      "metadata": {
        "id": "STcZj0gqJC1S"
      }
    },
    {
      "cell_type": "code",
      "source": [
        "numbers = [1.3,2.3,0.7, -0.01, 4.4]\n",
        "total = 0\n",
        "for n in numbers:\n",
        "  assert n > 0, 'Data should be positive'\n",
        "  total = total + n\n",
        "  str, list, bool, def, len, type, dtype\n",
        "\n",
        "print(total)"
      ],
      "metadata": {
        "colab": {
          "base_uri": "https://localhost:8080/",
          "height": 258
        },
        "id": "W5wLdpoXII9w",
        "outputId": "f06c1c3d-ff1a-46e2-98a5-56e055e9f053"
      },
      "execution_count": null,
      "outputs": [
        {
          "output_type": "error",
          "ename": "AssertionError",
          "evalue": "ignored",
          "traceback": [
            "\u001b[0;31m---------------------------------------------------------------------------\u001b[0m",
            "\u001b[0;31mAssertionError\u001b[0m                            Traceback (most recent call last)",
            "\u001b[0;32m<ipython-input-113-527bb635076a>\u001b[0m in \u001b[0;36m<cell line: 3>\u001b[0;34m()\u001b[0m\n\u001b[1;32m      2\u001b[0m \u001b[0mtotal\u001b[0m \u001b[0;34m=\u001b[0m \u001b[0;36m0\u001b[0m\u001b[0;34m\u001b[0m\u001b[0;34m\u001b[0m\u001b[0m\n\u001b[1;32m      3\u001b[0m \u001b[0;32mfor\u001b[0m \u001b[0mn\u001b[0m \u001b[0;32min\u001b[0m \u001b[0mnumbers\u001b[0m\u001b[0;34m:\u001b[0m\u001b[0;34m\u001b[0m\u001b[0;34m\u001b[0m\u001b[0m\n\u001b[0;32m----> 4\u001b[0;31m   \u001b[0;32massert\u001b[0m \u001b[0mn\u001b[0m \u001b[0;34m>\u001b[0m \u001b[0;36m0\u001b[0m\u001b[0;34m,\u001b[0m \u001b[0;34m'Data should be positive'\u001b[0m\u001b[0;34m\u001b[0m\u001b[0;34m\u001b[0m\u001b[0m\n\u001b[0m\u001b[1;32m      5\u001b[0m   \u001b[0mtotal\u001b[0m \u001b[0;34m=\u001b[0m \u001b[0mtotal\u001b[0m \u001b[0;34m+\u001b[0m \u001b[0mn\u001b[0m\u001b[0;34m\u001b[0m\u001b[0;34m\u001b[0m\u001b[0m\n\u001b[1;32m      6\u001b[0m \u001b[0;34m\u001b[0m\u001b[0m\n",
            "\u001b[0;31mAssertionError\u001b[0m: Data should be positive"
          ]
        }
      ]
    },
    {
      "cell_type": "code",
      "source": [],
      "metadata": {
        "id": "-9KhwusGJgvd"
      },
      "execution_count": null,
      "outputs": []
    }
  ]
}