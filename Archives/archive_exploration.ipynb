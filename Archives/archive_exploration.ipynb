{
 "cells": [
  {
   "cell_type": "markdown",
   "id": "5fad60e6-c95f-4a73-8666-45560303ebd7",
   "metadata": {},
   "source": [
    "<div class=\"alert alert-block alert-info\">\n",
    "<h2 style=\"margin-top: 0\">In this notebook, we will cover:</h2>\n",
    "\n",
    "- An overview of astroquery\n",
    "- Example use of several archives\n",
    "\n",
    "This notebook builds on the previous tutorials for Astropy Units/Quantities, Coordinates, FITS, and Tables.\n",
    "</div>"
   ]
  },
  {
   "cell_type": "code",
   "execution_count": null,
   "id": "2375fb66-4944-4182-a9dc-e580d761bdbc",
   "metadata": {},
   "outputs": [],
   "source": [
    "# Import useful Astropy functionality\n",
    "from astropy.coordinates import SkyCoord\n",
    "import astropy.units as u\n",
    "import matplotlib.pyplot as plt\n",
    "import numpy as np"
   ]
  },
  {
   "cell_type": "markdown",
   "id": "0c3f268d-754c-4309-bcfe-e11ca8a696e5",
   "metadata": {},
   "source": [
    "## Downloading a Catalog from a Paper"
   ]
  },
  {
   "cell_type": "code",
   "execution_count": null,
   "id": "3eeee247-af6a-480e-a670-04f4dd4e0301",
   "metadata": {},
   "outputs": [],
   "source": [
    "from astroquery.vizier import Vizier\n",
    "catalog_list = Vizier.find_catalogs('Dupuy Liu')\n",
    "[print(f'{k}:{v.description}') for k,v in catalog_list.items()]"
   ]
  },
  {
   "cell_type": "code",
   "execution_count": null,
   "id": "f7ec21f5-38f2-4e0a-9825-3e0f52894344",
   "metadata": {},
   "outputs": [],
   "source": [
    "result = Vizier.get_catalogs(catalog=\"J/ApJS/201/19\")[0]"
   ]
  },
  {
   "cell_type": "code",
   "execution_count": null,
   "id": "fa2cfbac-13cc-4968-b628-94cb5f36012e",
   "metadata": {},
   "outputs": [],
   "source": [
    "result"
   ]
  },
  {
   "cell_type": "code",
   "execution_count": null,
   "id": "38915225-2de5-4d26-a49a-32efaa89f2c7",
   "metadata": {},
   "outputs": [],
   "source": [
    "result[0]"
   ]
  },
  {
   "cell_type": "markdown",
   "id": "8c0df7a8-6b42-4e98-a96d-453a58b6603e",
   "metadata": {},
   "source": [
    "Exercise: Think about a paper in your field and get the data from it."
   ]
  },
  {
   "cell_type": "markdown",
   "id": "31f24b3f-ba61-4174-a777-50687b442906",
   "metadata": {},
   "source": [
    "## Cone Search SDSS\n",
    "\n",
    "Hint: most astroquery modules have a query_region() method when it makes sense to query for coordinate."
   ]
  },
  {
   "cell_type": "code",
   "execution_count": null,
   "id": "dae58b34-9f78-4fbd-b323-740ca2e66a5e",
   "metadata": {},
   "outputs": [],
   "source": [
    "# First create a SkyCoord object\n",
    "position = SkyCoord(result[0]['RAJ2000'], result[0]['DEJ2000'], unit=\"deg\")\n",
    "\n",
    "# Get closeby sources from SDSS\n",
    "from astroquery.sdss import SDSS\n",
    "sdss = SDSS()\n",
    "closeby_sources = sdss.query_region(position, radius=0.1 * u.arcmin, timeout=3600)"
   ]
  },
  {
   "cell_type": "code",
   "execution_count": null,
   "id": "2b7ba034-1286-453e-ad08-f662ffece78f",
   "metadata": {},
   "outputs": [],
   "source": [
    "closeby_sources"
   ]
  },
  {
   "cell_type": "code",
   "execution_count": null,
   "id": "628abbe5-0d92-4b96-af00-70abb589b48d",
   "metadata": {},
   "outputs": [],
   "source": [
    "images = sdss.get_images(matches=closeby_sources, band =['u', 'g', 'r', 'i', 'z'])"
   ]
  },
  {
   "cell_type": "code",
   "execution_count": null,
   "id": "581fd55c-012c-4f57-a7a4-c2007be66d04",
   "metadata": {},
   "outputs": [],
   "source": [
    "np.shape(images)"
   ]
  },
  {
   "cell_type": "code",
   "execution_count": null,
   "id": "2cc4548e-6899-4798-81ec-5208e2baaec3",
   "metadata": {},
   "outputs": [],
   "source": [
    "for image in images:\n",
    "    print(image[0].header['Filter'])"
   ]
  },
  {
   "cell_type": "code",
   "execution_count": null,
   "id": "9a5a5814-e979-4d14-bf1c-fedb7950edf0",
   "metadata": {
    "scrolled": true
   },
   "outputs": [],
   "source": [
    "images[0][0].header"
   ]
  },
  {
   "cell_type": "code",
   "execution_count": null,
   "id": "f8aec628-fa30-4c51-8a83-b4f321e3e9d6",
   "metadata": {},
   "outputs": [],
   "source": [
    "plt.imshow(images[0][0].data, vmin=0.1, vmax=1)"
   ]
  },
  {
   "cell_type": "markdown",
   "id": "0255baf0-74ca-4013-bef2-4c19f057b4fc",
   "metadata": {},
   "source": [
    "See how to make a RGB image: https://docs.astropy.org/en/stable/visualization/rgb.html"
   ]
  },
  {
   "cell_type": "markdown",
   "id": "faecbf6f-6546-4602-aa65-ab6c0ae4e179",
   "metadata": {},
   "source": [
    "## Search MAST archive"
   ]
  },
  {
   "cell_type": "code",
   "execution_count": null,
   "id": "3c102100-4afd-4a19-88aa-12e8f5612ae1",
   "metadata": {},
   "outputs": [],
   "source": [
    "from astroquery.mast import Observations\n",
    "obs_table = Observations.query_object(\"M8\",radius=\".02 deg\")\n",
    "len(obs_table)"
   ]
  },
  {
   "cell_type": "code",
   "execution_count": null,
   "id": "43d99a03-1e08-4db6-88ee-39e45c385bf5",
   "metadata": {},
   "outputs": [],
   "source": [
    "obs_table = Observations.query_criteria(dataproduct_type=[\"image\"],\n",
    "                                        proposal_pi=\"*Dokkum*\",\n",
    "                                        project='HST',\n",
    "                                        instrument_name='WFC3/IR',\n",
    "                                        obs_collection='HST',\n",
    "                                        filters='F140W',\n",
    "                                        proposal_id = '12177')"
   ]
  },
  {
   "cell_type": "code",
   "execution_count": null,
   "id": "4c6d7866-3605-4873-b67a-b1b383063602",
   "metadata": {},
   "outputs": [],
   "source": [
    "len(obs_table)"
   ]
  },
  {
   "cell_type": "code",
   "execution_count": null,
   "id": "7fcf9347-7358-4a76-9d8c-fe5e82d14d5d",
   "metadata": {},
   "outputs": [],
   "source": [
    "obs_table[0]['obs_id']"
   ]
  },
  {
   "cell_type": "code",
   "execution_count": null,
   "id": "8ea7f295-3c9a-41fa-839f-919cb6ab7fcc",
   "metadata": {},
   "outputs": [],
   "source": [
    "data_products_by_obs = Observations.get_product_list(obs_table[0])\n",
    "data_products = data_products_by_obs[(data_products_by_obs['obs_id'] == 'ibhj01j9q') & \\\n",
    "                                    (data_products_by_obs['productType'] == 'SCIENCE')]"
   ]
  },
  {
   "cell_type": "code",
   "execution_count": null,
   "id": "63384725-1961-41fb-8020-20c5b547954d",
   "metadata": {
    "scrolled": true
   },
   "outputs": [],
   "source": [
    "data_products"
   ]
  },
  {
   "cell_type": "code",
   "execution_count": null,
   "id": "ea00093e-337a-45eb-a2ea-ae2f36c5021a",
   "metadata": {},
   "outputs": [],
   "source": [
    "Observations.download_products(data_products) "
   ]
  },
  {
   "cell_type": "markdown",
   "id": "6e6c20ce-d55c-44ee-8364-ad39f978e3d2",
   "metadata": {},
   "source": [
    "JWST"
   ]
  },
  {
   "cell_type": "code",
   "execution_count": null,
   "id": "528664b0-5b6e-41a0-8ae9-33ee9dd1a7a8",
   "metadata": {},
   "outputs": [],
   "source": [
    "obs_table = Observations.query_criteria(proposal_id=\"1571\",\n",
    "                                        instrument_name = \"NIRISS*\")"
   ]
  },
  {
   "cell_type": "code",
   "execution_count": null,
   "id": "69aebc85-3458-4c06-b704-52ccbed45db5",
   "metadata": {},
   "outputs": [],
   "source": [
    "id = []\n",
    "filters = [obs.split(';')[:] for obs in obs_table['filters']]\n",
    "np.unique(filters)"
   ]
  },
  {
   "cell_type": "code",
   "execution_count": null,
   "id": "851906af-4e2e-43fa-9e59-1e2a7f57442d",
   "metadata": {},
   "outputs": [],
   "source": [
    "clear = ['CLEAR' in f for f in filters]\n",
    "blue = [(f == 'GR150R;F115W' or f == 'GR150C;F115W') for f in obs_table['filters']]\n",
    "green = [(f == 'GR150R;F150W' or f == 'GR150C;F150W') for f in obs_table['filters']]\n",
    "red = [(f == 'GR150R;F200W' or f == 'GR150C;F200W') for f in obs_table['filters']]"
   ]
  },
  {
   "cell_type": "code",
   "execution_count": null,
   "id": "e76c7132-7ca2-4fea-bbee-a3ac45c6da15",
   "metadata": {},
   "outputs": [],
   "source": [
    "plt.figure(figsize=[15,15])\n",
    "plt.plot(obs_table['s_ra'][clear]+0.5, obs_table['s_dec'][clear], 'o', markersize=10, mfc='black', mec='white', alpha=0.2)\n",
    "plt.plot(obs_table['s_ra'][blue]-0.5, obs_table['s_dec'][blue], 'o', markersize=10, mfc='blue', mec='white',alpha=0.2)\n",
    "plt.plot(obs_table['s_ra'][green], obs_table['s_dec'][green]+0.5, 'o', markersize=10, mfc='green', mec='white',alpha=0.2)\n",
    "plt.plot(obs_table['s_ra'][red], obs_table['s_dec'][red]-0.5, 'o', markersize=10, mfc='red', mec='white',alpha=0.2)"
   ]
  },
  {
   "cell_type": "code",
   "execution_count": null,
   "id": "6a37e1ed-e3e6-4bb5-8f30-13948e3a0147",
   "metadata": {},
   "outputs": [],
   "source": [
    "mask = [(ra > 155) and (ra < 165) and (dec > 30) and (dec < 40) for ra, dec in zip(obs_table['s_ra'], obs_table['s_dec'])]\n",
    "new_obs_table = obs_table[mask]"
   ]
  },
  {
   "cell_type": "code",
   "execution_count": null,
   "id": "a2bf7b02-65e1-4098-b4a9-830559d00e7c",
   "metadata": {},
   "outputs": [],
   "source": [
    "product_list = [Observations.get_product_list(obs) for obs in obs_table[mask]]\n",
    "products = vstack(product_list)\n",
    "len(products)"
   ]
  },
  {
   "cell_type": "code",
   "execution_count": null,
   "id": "2044d0f7-adcb-4b6f-af7b-83cd255fb732",
   "metadata": {},
   "outputs": [],
   "source": [
    "filtered = Observations.filter_products(products,productType=['SCIENCE','PREVIEW'],\n",
    "                                            extension=['_rate.fits','_rate.jpg'])\n",
    "print(len(filtered))\n",
    "filtered"
   ]
  },
  {
   "cell_type": "code",
   "execution_count": null,
   "id": "dd66168a-8b8b-4956-a224-85a55de39c93",
   "metadata": {},
   "outputs": [],
   "source": [
    "Observations.download_products(filtered, download_dir='RAW/')"
   ]
  },
  {
   "cell_type": "markdown",
   "id": "18d46182-4b3d-434d-8dae-4fb43d8b881c",
   "metadata": {},
   "source": [
    "## Archives with TAP Services\n",
    "\n",
    "TAP stands for Table Access Protocol which is a standard way that many archives provide access to data. This is a Virtual Observatory (VO) standard and you can find much more about searching and accessing TAP tables in the extensive [NAVO Notebooks](https://nasa-navo.github.io/navo-workshop/index.html). Here I will show a couple of simple examples."
   ]
  },
  {
   "cell_type": "markdown",
   "id": "a884a748-8bb7-4ab2-89a7-d76eb46a8115",
   "metadata": {},
   "source": [
    "Some astroquery modules are simply wrappers around TAP services, for example GAIA. \n",
    "\n",
    "The examples below is taken from the [Astronomical Data Carpentries lesson](https://datacarpentry.org/astronomy-python/)."
   ]
  },
  {
   "cell_type": "code",
   "execution_count": null,
   "id": "fd2242e7-3277-4dc0-b00f-710256fd7c80",
   "metadata": {},
   "outputs": [],
   "source": [
    "from astroquery.gaia import Gaia"
   ]
  },
  {
   "cell_type": "code",
   "execution_count": null,
   "id": "63eb8798-cbe7-477d-ae28-77885982c826",
   "metadata": {},
   "outputs": [],
   "source": [
    "tables = Gaia.load_tables(only_names=True)\n",
    "tables"
   ]
  },
  {
   "cell_type": "code",
   "execution_count": null,
   "id": "30e4b0e0-f98b-45e4-b0f3-3ddfeb9d74e7",
   "metadata": {},
   "outputs": [],
   "source": [
    "for table in tables:\n",
    "    print(table.name)"
   ]
  },
  {
   "cell_type": "markdown",
   "id": "1d09570f-67f1-4062-be7a-be4466a589a8",
   "metadata": {},
   "source": [
    "There are lots of table, here are some examples:\n",
    "\n",
    "- gaiadr2.gaia_source, which contains Gaia data from data release 2,\n",
    "\n",
    "- gaiadr2.panstarrs1_original_valid, which contains the photometry data we’ll use from PanSTARRS, and\n",
    "\n",
    "- gaiadr2.panstarrs1_best_neighbour, which we’ll use to cross-match each star observed by Gaia with the same star observed by PanSTARRS.\n",
    "\n",
    "You can probably infer what many of these tables and columns are by looking at the names, but you should resist the temptation to guess. To find out what the columns mean, [read the documentation](https://gea.esac.esa.int/archive/documentation/GDR2/Gaia_archive/chap_datamodel/)."
   ]
  },
  {
   "cell_type": "code",
   "execution_count": null,
   "id": "e0ba0d10-2737-4a69-b3e6-cf3af0add1e8",
   "metadata": {},
   "outputs": [],
   "source": [
    "meta = Gaia.load_table('gaiadr2.gaia_source')\n",
    "meta"
   ]
  },
  {
   "cell_type": "code",
   "execution_count": null,
   "id": "72341036-7a6b-4446-9bb6-773ff1f916ed",
   "metadata": {},
   "outputs": [],
   "source": [
    "print(meta)"
   ]
  },
  {
   "cell_type": "code",
   "execution_count": null,
   "id": "2b05864e-b3d2-4d2b-8789-85f2e848d9c6",
   "metadata": {
    "scrolled": true
   },
   "outputs": [],
   "source": [
    "# Print the columns in the table\n",
    "for column in meta.columns:\n",
    "    print(column.name)"
   ]
  },
  {
   "cell_type": "markdown",
   "id": "28e11a09-d981-4039-8daf-d58035d4d83b",
   "metadata": {},
   "source": [
    "This is just the metadata. How do you get the actual data. You don't. The point of archives like this one and other large archives is that you do not need to download the full data but you can filter it on the remote server and only download data that satisfies your search criteria. The query is written in a language similar to SQL (structured query language) which has had some astro functionality added called ADQL (the Astronomical Data Query Language).  \n",
    "\n",
    "Here is a simple ADQL query:"
   ]
  },
  {
   "cell_type": "code",
   "execution_count": null,
   "id": "7cb14ab7-05d9-4b66-85d3-3899f9eaff3d",
   "metadata": {},
   "outputs": [],
   "source": [
    "query1 = \"\"\"SELECT \n",
    "TOP 10\n",
    "source_id, ra, dec, parallax \n",
    "FROM gaiadr2.gaia_source\n",
    "\"\"\""
   ]
  },
  {
   "cell_type": "code",
   "execution_count": null,
   "id": "6d6ff9f8-21c7-402b-81fc-ca0b0a77b915",
   "metadata": {},
   "outputs": [],
   "source": [
    "job = Gaia.launch_job(query1)\n",
    "job"
   ]
  },
  {
   "cell_type": "code",
   "execution_count": null,
   "id": "948fc3cb-51c7-4b91-b667-d83adb7b330f",
   "metadata": {},
   "outputs": [],
   "source": [
    "print(job)"
   ]
  },
  {
   "cell_type": "code",
   "execution_count": null,
   "id": "3c842f13-9637-4da0-93f7-9a1aeca43928",
   "metadata": {},
   "outputs": [],
   "source": [
    "results = job.get_results()\n",
    "type(results)"
   ]
  },
  {
   "cell_type": "code",
   "execution_count": null,
   "id": "4bf2fd5b-b936-4e7f-9df1-7e6675b5ba4a",
   "metadata": {},
   "outputs": [],
   "source": [
    "results"
   ]
  },
  {
   "cell_type": "markdown",
   "id": "c8963dfb-ab39-4c1e-99a1-1d559d9a3161",
   "metadata": {},
   "source": [
    "## Astrometry.net in the Notebook Example\n",
    "\n",
    "In order to use astrometry.net in the notebook, we need to specify a key. Instructions are on the astroquery website:\n",
    "\n",
    "https://astroquery.readthedocs.io/en/latest/astrometry_net/astrometry_net.html\n",
    "\n",
    "A short summary:\n",
    "- Create an account on the astrometry.net website. You can log in with Google, GitHub, etc.\n",
    "- Go to the My Profile section or [here](https://nova.astrometry.net/api_help) to find your API key\n",
    "- Create a file for the configuration, it needs to live in a specific location: `touch ~/.astropy/config/astroquery.cfg`\n",
    "- Open the file with a text editor and add the content below:\n",
    "```\n",
    "[astrometry_net]\n",
    "\n",
    "## The Astrometry.net API key.\n",
    "api_key = KEY FROM THE WEBSITE\n",
    "\n",
    "## Name of server\n",
    "server = http://nova.astrometry.net\n",
    "\n",
    "## Default timeout for connecting to server\n",
    "timeout = 120\n",
    "```"
   ]
  },
  {
   "cell_type": "code",
   "execution_count": null,
   "id": "5f167a1b-fd02-4272-b8a8-09148056ab4f",
   "metadata": {},
   "outputs": [],
   "source": [
    "from astroquery.astrometry_net import AstrometryNet\n",
    "from astropy.io import fits\n",
    "\n",
    "fit = False\n",
    "\n",
    "ast = AstrometryNet()\n",
    "if fit == True:\n",
    "    wcs_header = ast.solve_from_image('../WCS/rozhen2m_1.fits', force_image_upload=True)\n",
    "    day4_header = fits.getheader('../WCS/new_rozhen2m_1.fits')\n",
    "    diff = fits.diff.HeaderDiff(wcs_header, day4_header)\n",
    "    print(diff.report())"
   ]
  },
  {
   "cell_type": "markdown",
   "id": "ffc3a430-2de0-40e0-8a33-067ed0c2e9bb",
   "metadata": {},
   "source": [
    "\n",
    "[Astroquery](https://astroquery.readthedocs.io/en/latest/) is an affiliated package in the Astropy Project. Most of the functionality is developed by the archives themselves. Let's look at the list of archives which are represented.\n",
    "\n",
    "## Resources\n",
    "\n",
    "Notebook from Erik and Brigitta:\n",
    "\n",
    "https://github.com/AstroHackWeek/AstroHackWeek2019/blob/master/day2_software/Querying%20with%20Astroquery.ipynb\n",
    "\n",
    "MAST notebooks repo:\n",
    "\n",
    "https://spacetelescope.github.io/mast_notebooks/intro.html\n",
    "\n",
    "CDS:\n",
    "\n",
    "https://github.com/cds-astro/tutorials\n",
    "\n",
    "GAIA:\n",
    "\n",
    "https://allendowney.github.io/AstronomicalData/01_query.html\n",
    "\n",
    "ALMA:\n",
    "\n",
    "https://almascience.eso.org/alma-data/archive/archive-notebooks\n",
    "\n",
    "ESA:\n",
    "\n",
    "https://www.cosmos.esa.int/web/hst/astroquery\n",
    "\n",
    "NAVO workshops:\n",
    "\n",
    "https://nasa-navo.github.io/navo-workshop/index.html\n",
    "\n",
    "NOIRLab DataLab\n",
    "\n",
    "https://datalab.noirlab.edu/\n",
    "\n",
    "PyESASky: \n",
    "\n",
    "https://github.com/esdc-esac-esa-int/pyesasky/tree/master"
   ]
  },
  {
   "cell_type": "code",
   "execution_count": null,
   "id": "794a9e3f-357b-4f57-bbd2-44a9437df17e",
   "metadata": {},
   "outputs": [],
   "source": []
  }
 ],
 "metadata": {
  "kernelspec": {
   "display_name": "Python 3 (ipykernel)",
   "language": "python",
   "name": "python3"
  },
  "language_info": {
   "codemirror_mode": {
    "name": "ipython",
    "version": 3
   },
   "file_extension": ".py",
   "mimetype": "text/x-python",
   "name": "python",
   "nbconvert_exporter": "python",
   "pygments_lexer": "ipython3",
   "version": "3.11.6"
  }
 },
 "nbformat": 4,
 "nbformat_minor": 5
}
