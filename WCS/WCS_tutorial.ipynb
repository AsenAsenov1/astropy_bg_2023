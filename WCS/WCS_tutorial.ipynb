{
 "cells": [
  {
   "cell_type": "markdown",
   "metadata": {},
   "source": [
    "# World Coordinate System (WCS)\n",
    "\n",
    "#### What is a WCS?\n",
    "The mapping from pixel coordinates to some physical coordinates (spatial, spectral, time, etc....)\n",
    "\n",
    "The term WCS is often used to refer specifically to the most widely used [FITS WCS Standard](https://fits.gsfc.nasa.gov/fits_wcs.html) and its implementation.\n",
    "\n",
    "## astropy.wcs\n",
    "\n",
    "Implements the FITS WCS standard and some commonly used distortion conventions. The core standard is a wrapper around Mark Calabretta's [wcslib C library](https://www.atnf.csiro.au/people/mcalabre/WCS/index.html).\n",
    "\n",
    "This tutorial will show how to create a WCS object from a FITS file and how to use it to transform coordinates."
   ]
  },
  {
   "cell_type": "code",
   "execution_count": null,
   "metadata": {},
   "outputs": [],
   "source": [
    "import os\n",
    "import numpy as np\n",
    "%matplotlib inline\n",
    "from matplotlib import pyplot as plt"
   ]
  },
  {
   "cell_type": "code",
   "execution_count": null,
   "metadata": {},
   "outputs": [],
   "source": [
    "from astropy.utils.data import get_pkg_data_filename  # astropy utility function \n",
    "from astropy.io import fits  # the astropy I/O module\n",
    "from astropy import wcs   # the astropy WCS subpackage"
   ]
  },
  {
   "cell_type": "markdown",
   "metadata": {},
   "source": [
    "## Creating a WCS object from the header of a FITS file"
   ]
  },
  {
   "cell_type": "markdown",
   "metadata": {},
   "source": [
    "Open a file with `astropy.fits` and look at it. (This file contains only the header and no data)"
   ]
  },
  {
   "cell_type": "code",
   "execution_count": null,
   "metadata": {},
   "outputs": [],
   "source": [
    "sip_file_name = get_pkg_data_filename('data/sip.fits', package='astropy.wcs.tests')\n",
    "\n",
    "sip_file = fits.open(sip_file_name)\n",
    "sip_file.info()"
   ]
  },
  {
   "cell_type": "markdown",
   "metadata": {},
   "source": [
    "Let's look at the header of the file and identify the WCS keywords:"
   ]
  },
  {
   "cell_type": "code",
   "execution_count": null,
   "metadata": {},
   "outputs": [],
   "source": [
    "sip_file[0].header\n"
   ]
  },
  {
   "cell_type": "markdown",
   "metadata": {},
   "source": [
    "The Primary WCS keywords are:\n",
    "\n",
    "```\n",
    "WCSAXES =                    2 / Number of coordinate axes                      \n",
    "CRPIX1  =                128.0 / Pixel coordinate of reference point            \n",
    "CRPIX2  =                128.0 / Pixel coordinate of reference point            \n",
    "PC1_1   =    0.000249756880272 / Coordinate transformation matrix element       \n",
    "PC1_2   =    0.000230177809744 / Coordinate transformation matrix element       \n",
    "PC2_1   =    0.000230428519265 / Coordinate transformation matrix element       \n",
    "PC2_2   =   -0.000249965770577 / Coordinate transformation matrix element       \n",
    "CDELT1  =                    1 / [deg] Coordinate increment at reference point  \n",
    "CDELT2  =                    1 / [deg] Coordinate increment at reference point  \n",
    "CUNIT1  = 'deg'                / Units of coordinate increment and value        \n",
    "CUNIT2  = 'deg'                / Units of coordinate increment and value        \n",
    "CTYPE1  = 'RA---TAN-SIP'       / Right ascension, gnomonic projection           \n",
    "CTYPE2  = 'DEC--TAN-SIP'       / Declination, gnomonic projection               \n",
    "CRVAL1  =        202.482322805 / [deg] Coordinate value at reference point      \n",
    "CRVAL2  =          47.17511893 / [deg] Coordinate value at reference point      \n",
    "LONPOLE =                  180 / [deg] Native longitude of celestial pole       \n",
    "LATPOLE =          47.17511893 / [deg] Native latitude of celestial pole        \n",
    "RESTFRQ =                    0 / [Hz] Line rest frequency                       \n",
    "RESTWAV =                    0 / [Hz] Line rest wavelength                      \n",
    "CRDER1  =    4.02509762361E-05 / [deg] Random error in coordinate               \n",
    "CRDER2  =    3.42746131953E-05 / [deg] Random error in coordinate               \n",
    "RADESYS = 'ICRS'               / Equatorial coordinate system                   \n",
    "EQUINOX =                 2000 / [yr] Equinox of equatorial coordinates \n",
    "```"
   ]
  },
  {
   "cell_type": "markdown",
   "metadata": {},
   "source": [
    "This file contains a distortion model represented as a [Simple Imaging Polynomial (SIP) distortion](https://fits.gsfc.nasa.gov/registry/sip.html).\n",
    "\n",
    "```\n",
    "BP_0_1  =          -1.6588E-05                                                  \n",
    "BP_0_2  =          -2.3424E-05                                                  \n",
    "A_3_0   =          -1.4172E-07                                                  \n",
    "B_3_0   =          -2.0249E-08                                                  \n",
    "BP_3_0  =           2.0482E-08                                                  \n",
    "B_1_2   =          -5.7813E-09                                                  \n",
    "B_1_1   =          -2.4386E-05                                                  \n",
    "B_2_1   =          -1.6583E-07                                                  \n",
    "B_2_0   =           2.1197E-06                                                  \n",
    "A_ORDER =                    3                                                  \n",
    "B_0_3   =          -1.6168E-07                                                  \n",
    "B_0_2   =             2.31E-05                                                  \n",
    "BP_0_3  =            1.651E-07                                                  \n",
    "B_ORDER =                    3                                                  \n",
    "BP_ORDER=                    3                                                  \n",
    "BP_1_2  =           3.8917E-09                                                  \n",
    "AP_ORDER=                    3                                                  \n",
    "AP_3_0  =           1.4492E-07                                                  \n",
    "A_1_1   =           2.1886E-05                                                  \n",
    "BP_2_0  =           -2.151E-06                                                  \n",
    "A_1_2   =          -1.6847E-07                                                  \n",
    "AP_2_1  =            6.709E-09                                                  \n",
    "AP_2_0  =           2.4146E-05                                                  \n",
    "A_0_2   =           2.9656E-06                                                  \n",
    "A_0_3   =           3.7746E-09                                                  \n",
    "BP_1_1  =           2.4753E-05                                                  \n",
    "BP_1_0  =          -2.6783E-06                                                  \n",
    "A_2_0   =          -2.3863E-05                                                  \n",
    "A_2_1   =           -8.561E-09                                                  \n",
    "AP_1_0  =          -1.4897E-05                                                  \n",
    "AP_1_1  =           -2.225E-05                                                  \n",
    "AP_1_2  =           1.7195E-07                                                  \n",
    "BP_2_1  =              1.7E-07                                                  \n",
    "AP_0_1  =          -6.4275E-07                                                  \n",
    "AP_0_3  =           -3.582E-09                                                  \n",
    "AP_0_2  =          -2.9425E-06      \n",
    "```"
   ]
  },
  {
   "cell_type": "markdown",
   "metadata": {},
   "source": [
    "To create a WCS object pass the header with the WCS keywords to `astropy.wcs.WCS`. In this case it is the primary header. A warning is issued due to the lack of image data. "
   ]
  },
  {
   "cell_type": "code",
   "execution_count": null,
   "metadata": {},
   "outputs": [],
   "source": [
    "w = wcs.WCS(sip_file[0].header)"
   ]
  },
  {
   "cell_type": "code",
   "execution_count": null,
   "metadata": {},
   "outputs": [],
   "source": [
    "print(w)"
   ]
  },
  {
   "cell_type": "markdown",
   "metadata": {},
   "source": [
    "## Transforming between pixel coordinates and sky coordinates"
   ]
  },
  {
   "cell_type": "markdown",
   "metadata": {},
   "source": [
    "To perform the transformation from detector to sky, including distortions, pass x and y and an 'origin'. The third argument, 'origin', indicates whether the coordinates are 1-based (like FITS), or 0-based (like python).\n",
    "\n",
    "The inputs can be numbers, numpy arrays or array like objects."
   ]
  },
  {
   "cell_type": "code",
   "execution_count": null,
   "metadata": {},
   "outputs": [],
   "source": [
    "ra, dec = w.all_pix2world([1, 100], [2, 200], 1)\n",
    "print(ra, dec)"
   ]
  },
  {
   "cell_type": "markdown",
   "metadata": {},
   "source": [
    "Perfom the inverse transformation - from sky to detector coordinates.\n",
    "\n",
    "If analytical inverse is not available (often the case in the presence of distortion), then an iterative inverse is performed."
   ]
  },
  {
   "cell_type": "code",
   "execution_count": null,
   "metadata": {},
   "outputs": [],
   "source": [
    "print(w.all_world2pix(ra, dec, 1))"
   ]
  },
  {
   "cell_type": "markdown",
   "metadata": {},
   "source": [
    "In some cases it is useful to omit the distortion and perform the core WCS transforms only:"
   ]
  },
  {
   "cell_type": "code",
   "execution_count": null,
   "metadata": {},
   "outputs": [],
   "source": [
    "ra, dec = w.wcs_pix2world([1, 100], [2, 200], 1)\n",
    "print(ra, dec)"
   ]
  },
  {
   "cell_type": "code",
   "execution_count": null,
   "metadata": {},
   "outputs": [],
   "source": [
    "w.wcs_world2pix(ra, dec, 1)"
   ]
  },
  {
   "cell_type": "markdown",
   "metadata": {},
   "source": [
    "## Common WCS API (aka APE 14)\n",
    "\n",
    "There are other implementations of a World Coordinate System. To unify the experience for the user, a [common API](https://zenodo.org/records/1188875) was created."
   ]
  },
  {
   "cell_type": "code",
   "execution_count": null,
   "metadata": {},
   "outputs": [],
   "source": [
    "sky = w.pixel_to_world([0, 99], [1, 199])  # Note that this assumes the coordinates are 0-based\n",
    "print(sky)"
   ]
  },
  {
   "cell_type": "code",
   "execution_count": null,
   "metadata": {},
   "outputs": [],
   "source": [
    "w.world_to_pixel(sky)"
   ]
  },
  {
   "cell_type": "code",
   "execution_count": null,
   "metadata": {},
   "outputs": [],
   "source": [
    "sky_values = w.pixel_to_world_values([0, 99], [1, 199]) "
   ]
  },
  {
   "cell_type": "code",
   "execution_count": null,
   "metadata": {},
   "outputs": [],
   "source": [
    "w.world_to_pixel_values(sky_values)"
   ]
  },
  {
   "cell_type": "markdown",
   "metadata": {},
   "source": [
    "## Creating a WCS programatically"
   ]
  },
  {
   "cell_type": "markdown",
   "metadata": {},
   "source": [
    "A WCS object can be created programatically. Here is a concise example with 1 arcsecond pixels that is aligned with \"North up, East to the left\"."
   ]
  },
  {
   "cell_type": "code",
   "execution_count": null,
   "metadata": {},
   "outputs": [],
   "source": [
    "my_wcs = wcs.WCS(naxis=2)\n",
    "my_wcs.wcs.ctype = ['RA---TAN', 'DEC--TAN']\n",
    "my_wcs.wcs.crpix = [512, 512]\n",
    "my_wcs.wcs.crval = [70., 20.]\n",
    "my_wcs.wcs.cdelt = [-1/3600, 1/3600]\n",
    "my_wcs.array_shape = [1024, 1024] # NAXIS2, NAXIS1\n",
    "my_wcs"
   ]
  },
  {
   "cell_type": "markdown",
   "metadata": {},
   "source": [
    "## Converting a WCS into an astropy.io.fits.Header instance"
   ]
  },
  {
   "cell_type": "markdown",
   "metadata": {},
   "source": [
    "The WCS object can be changed and the new WCS can be written out as a new header.\n",
    "\n",
    "By default only the primary WCS keywords are written out to the header. Pass a keyword `relax=True` to write out the SIP distortion."
   ]
  },
  {
   "cell_type": "code",
   "execution_count": null,
   "metadata": {},
   "outputs": [],
   "source": [
    "# The original WCS\n",
    "w.printwcs()"
   ]
  },
  {
   "cell_type": "code",
   "execution_count": null,
   "metadata": {},
   "outputs": [],
   "source": [
    "w.wcs.crpix = [200, 200]\n",
    "\n",
    "# Calling *to_header()* without arguments writes\n",
    "# out the standard WCS keywords.\n",
    "w.to_header()"
   ]
  },
  {
   "cell_type": "code",
   "execution_count": null,
   "metadata": {},
   "outputs": [],
   "source": [
    "# Passing *relax=True* writes out the SIP coefficients\n",
    "# and all other distortions.\n",
    "w.to_header(relax=True)"
   ]
  },
  {
   "cell_type": "markdown",
   "metadata": {},
   "source": [
    "## Generate a WCS object for an observation from the 2-m Rozhen telescope"
   ]
  },
  {
   "cell_type": "code",
   "execution_count": null,
   "metadata": {},
   "outputs": [],
   "source": [
    "ls"
   ]
  },
  {
   "cell_type": "code",
   "execution_count": null,
   "metadata": {},
   "outputs": [],
   "source": [
    "wr2 = wcs.WCS('rozhen2m_2.fits')\n",
    "print(wr2)"
   ]
  },
  {
   "cell_type": "markdown",
   "metadata": {},
   "source": [
    "Clearly there is no WCS information in the headers. \n",
    "\n",
    "Let's try [astrometry.net](https://nova.astrometry.net\n",
    "\n",
    "I already uploaded the two images to astrometry.net and downloaded the new images with added pointing information and WCS keywords.\n",
    "The links to the two uploads are here\n",
    "\n",
    "https://nova.astrometry.net/user_images/8939748#annotated\n",
    "\n",
    "https://nova.astrometry.net/user_images/8943580#annotated\n",
    "\n",
    "\n",
    "The new files are called `new_rozhen2m_1.fits` and `new_rozhen2m_2.fits`"
   ]
  },
  {
   "cell_type": "code",
   "execution_count": null,
   "metadata": {},
   "outputs": [],
   "source": [
    "fr1 = fits.open('new_rozhen2m_1.fits')\n",
    "fr2 = fits.open('new_rozhen2m_2.fits')"
   ]
  },
  {
   "cell_type": "code",
   "execution_count": null,
   "metadata": {},
   "outputs": [],
   "source": [
    "plt.figure(figsize=(10, 8))\n",
    "plt.gray()\n",
    "ax1 = plt.subplot(1,2,1)\n",
    "ax1.imshow(fr1[0].data, origin='lower', vmin=1244, vmax=1390)\n",
    "ax2 = plt.subplot(1,2,2)\n",
    "ax2.imshow(fr2[0].data, origin='lower', vmin=1244, vmax=1390)\n"
   ]
  },
  {
   "cell_type": "code",
   "execution_count": null,
   "metadata": {},
   "outputs": [],
   "source": [
    "from reproject.mosaicking import find_optimal_celestial_wcs\n",
    "\n",
    "wcs_out, shape_out = find_optimal_celestial_wcs([fr1, fr2])\n",
    "print(wcs_out)"
   ]
  },
  {
   "cell_type": "code",
   "execution_count": null,
   "metadata": {},
   "outputs": [],
   "source": [
    "from reproject import reproject_interp\n",
    "from reproject.mosaicking import reproject_and_coadd\n",
    "\n",
    "array, footprint = reproject_and_coadd([fr1, fr2],\n",
    "                                       wcs_out,\n",
    "                                       shape_out=shape_out,\n",
    "                                       reproject_function=reproject_interp)"
   ]
  },
  {
   "cell_type": "code",
   "execution_count": null,
   "metadata": {},
   "outputs": [],
   "source": [
    "plt.figure(figsize=(10, 8))\n",
    "plt.gray()\n",
    "ax = plt.subplot(projection=wcs_out)\n",
    "plt.grid(color='white', ls='solid')\n",
    "plt.xlabel('Right Ascension')\n",
    "plt.ylabel('Declination')\n",
    "\n",
    "plt.imshow(array, origin='lower', vmin=1244, vmax=1390)"
   ]
  },
  {
   "cell_type": "markdown",
   "metadata": {},
   "source": [
    "## Exercise: Refine a WCS using a list of detections and a reference catalog\n",
    "\n",
    "Refine a WCS for a science image exposure from the Zwicky Transient Facility from these ingredients:\n",
    "* An initial header\n",
    "* A detection list cut at 17th magnitude, in file `data/ztf_detections_17thmag.csv`\n",
    "* A reference catalog with coordinates and magnitudes from Gaia cut at 17 Gaia G magnitude, in `data/Gaia-gaia_dr2_source-ztf-20190606224213_000667_zr.csv`\n",
    "\n",
    "The exercise makes use of `astropy.wcs`, `astropy.coordinates` and the projection capabilities of WCSAxes.\n",
    "\n",
    "1. Read in the detection list and the reference catalog with `astropy.table.Table.read`\n",
    "2. Calculate starting RAs and Decs for the detection list using the initial WCS\n",
    "3. Create SkyCoord instances for the initial detection coordinates and the Gaia coordinates\n",
    "4. Plot the detection list and the Gaia list in a scatter plot\n",
    "5. Match the detection list and the Gaia list\n",
    "6. Refine the WCS using the `fit_wcs_from_points` function from `astropy.wcs.utils`"
   ]
  },
  {
   "cell_type": "markdown",
   "metadata": {},
   "source": [
    "Import everything we'll need for the exercise."
   ]
  },
  {
   "cell_type": "code",
   "execution_count": null,
   "metadata": {},
   "outputs": [],
   "source": [
    "import os\n",
    "\n",
    "import matplotlib.pyplot as plt\n",
    "import numpy as np\n",
    "\n",
    "from astropy.coordinates import SkyCoord\n",
    "from astropy.table import Table\n",
    "from astropy.wcs import WCS\n",
    "from astropy.wcs.utils import fit_wcs_from_points\n",
    "import astropy.units as u\n",
    "\n",
    "%matplotlib inline"
   ]
  },
  {
   "cell_type": "markdown",
   "metadata": {},
   "source": [
    "Create the initial WCS programatically."
   ]
  },
  {
   "cell_type": "code",
   "execution_count": null,
   "metadata": {},
   "outputs": [],
   "source": [
    "initial_wcs = WCS(naxis=2)\n",
    "initial_wcs.wcs.ctype = ['RA---TAN', 'DEC--TAN']  \n",
    "initial_wcs.wcs.crval = [149.07662386535503, 33.32164150821777]  \n",
    "initial_wcs.wcs.crpix = [-3305.678, -7136.481]\n",
    "initial_wcs.wcs.cd = [[-0.0002817188, -1.554e-07],\n",
    "                      [-1.998e-07, -0.0002819204]]  \n",
    "initial_wcs.array_shape = [3080, 3072] # NAXIS2, NAXIS1"
   ]
  },
  {
   "cell_type": "code",
   "execution_count": null,
   "metadata": {},
   "outputs": [],
   "source": [
    "initial_wcs"
   ]
  },
  {
   "cell_type": "markdown",
   "metadata": {},
   "source": [
    "### 1. Read in the detection list and the reference catalog\n",
    "\n",
    "Read in the detections and the reference catalog using `astropy.table.Table` with `format='csv'`.\n",
    "The detections table is in `'data/ztf_detections_17thmag.csv'` and the reference catalog is `'data/Gaia-gaia_dr2_source-ztf-20190606224213_000667_zr.csv'`"
   ]
  },
  {
   "cell_type": "code",
   "execution_count": null,
   "metadata": {},
   "outputs": [],
   "source": [
    "#detections = Table.read(...)"
   ]
  },
  {
   "cell_type": "code",
   "execution_count": null,
   "metadata": {},
   "outputs": [],
   "source": [
    "#ref_catalog = Table.read(...)"
   ]
  },
  {
   "cell_type": "markdown",
   "metadata": {},
   "source": [
    "### 2. Calculate starting RAs and Decs for the detection list using the initial WCS\n",
    "\n",
    "Use the `initial_wcs.all_pix2world` function to calculate starting RA and Dec from the `detections['xpos']` and `detections['ypos']` columns. The pixel positions use the FITS numbering convention."
   ]
  },
  {
   "cell_type": "code",
   "execution_count": null,
   "metadata": {},
   "outputs": [],
   "source": [
    "#initial_ra, initial_dec = initial_wcs.all_pix2world(...)"
   ]
  },
  {
   "cell_type": "markdown",
   "metadata": {},
   "source": [
    "### 3. Create SkyCoord instances for the initial detection coordinates and the Gaia coordinates"
   ]
  },
  {
   "cell_type": "code",
   "execution_count": null,
   "metadata": {},
   "outputs": [],
   "source": [
    "#initial_coords = SkyCoord(...)"
   ]
  },
  {
   "cell_type": "code",
   "execution_count": null,
   "metadata": {},
   "outputs": [],
   "source": [
    "#gaia_coords = SkyCoord(...)"
   ]
  },
  {
   "cell_type": "markdown",
   "metadata": {},
   "source": [
    "### 4. Plot the detection list and the Gaia list in a scatter plot\n",
    "\n",
    "Use `projection=initial_wcs` to make a scatter plot using `gaia_coords` and `initial_coords`. The open circles are sized according to magnitude."
   ]
  },
  {
   "cell_type": "code",
   "execution_count": null,
   "metadata": {},
   "outputs": [],
   "source": [
    "fig = plt.figure(figsize=(8,8))\n",
    "ax = plt.subplot(projection=initial_wcs)\n",
    "\n",
    "# Uncomment this block to plot the Gaia coordinates\n",
    "#ax.scatter(gaia_coords.ra, \n",
    "#           gaia_coords.dec,  c=None, marker='o',\n",
    "#           s=20*(18 - ref_catalog['phot_g_mean_mag']),\n",
    "#           facecolors='none', edgecolors='green',\n",
    "#           transform=ax.get_transform('world'))\n",
    "\n",
    "# Repeat for `initial_coords` but use `edgecolors='blue'"
   ]
  },
  {
   "cell_type": "markdown",
   "metadata": {},
   "source": [
    "### 5. Match the detection list and the Gaia list\n",
    "\n",
    "Use the `initial_coords.search_around_sky` method with a 15 arcsecond radius."
   ]
  },
  {
   "cell_type": "code",
   "execution_count": null,
   "metadata": {},
   "outputs": [],
   "source": [
    "#idxgaia, idxdet, d2d, d3d = initial_coords.search_around_sky(...)"
   ]
  },
  {
   "cell_type": "code",
   "execution_count": null,
   "metadata": {},
   "outputs": [],
   "source": [
    "#gaia_matched = gaia_coords[idxgaia]\n",
    "#detections_xpos_matched = detections['xpos'][idxdet]\n",
    "#detections_ypos_matched = detections['ypos'][idxdet]\n",
    "#print(len(gaia_matched), len(detections_xpos_matched), len(detections_ypos_matched))"
   ]
  },
  {
   "cell_type": "markdown",
   "metadata": {},
   "source": [
    "### 6. Refine the WCS using the `fit_wcs_from_points` function\n",
    "\n",
    "Look at the help for `fit_wcs_from_points` and use it to fit a new WCS. Use `sip_degree=3` to fit 3rd-order polynomial distortion.\n",
    "\n",
    "Optionally, calculate new RAs and Decs for the matched pixel coordinates, and make another scatter plot."
   ]
  },
  {
   "cell_type": "code",
   "execution_count": null,
   "metadata": {},
   "outputs": [],
   "source": [
    "fit_wcs_from_points?"
   ]
  },
  {
   "cell_type": "code",
   "execution_count": null,
   "metadata": {},
   "outputs": [],
   "source": [
    "#fitted_wcs = fit_wcs_from_points(...)"
   ]
  },
  {
   "cell_type": "code",
   "execution_count": null,
   "metadata": {},
   "outputs": [],
   "source": [
    "#fitted_wcs"
   ]
  },
  {
   "cell_type": "markdown",
   "metadata": {},
   "source": [
    "Examine the SIP distortion coefficients"
   ]
  },
  {
   "cell_type": "code",
   "execution_count": null,
   "metadata": {},
   "outputs": [],
   "source": [
    "#fitted_wcs.sip.a"
   ]
  },
  {
   "cell_type": "code",
   "execution_count": null,
   "metadata": {},
   "outputs": [],
   "source": [
    "#fitted_wcs.sip.b"
   ]
  }
 ],
 "metadata": {
  "anaconda-cloud": {},
  "kernelspec": {
   "display_name": "Python 3 (ipykernel)",
   "language": "python",
   "name": "python3"
  },
  "language_info": {
   "codemirror_mode": {
    "name": "ipython",
    "version": 3
   },
   "file_extension": ".py",
   "mimetype": "text/x-python",
   "name": "python",
   "nbconvert_exporter": "python",
   "pygments_lexer": "ipython3",
   "version": "3.11.5"
  }
 },
 "nbformat": 4,
 "nbformat_minor": 4
}
